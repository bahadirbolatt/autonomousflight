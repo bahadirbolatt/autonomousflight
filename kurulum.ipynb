{
 "cells": [
  {
   "cell_type": "markdown",
   "id": "eebf4dd5",
   "metadata": {},
   "source": [
    "# Görev Kontrol Ünitesi"
   ]
  },
  {
   "cell_type": "markdown",
   "id": "1d810bb9",
   "metadata": {},
   "source": [
    "Görev kontrol ünitesi görev bilgisayarı içinde bulunan, otonom uçuş kartı ile seri haberleşme portları üzerinden MAVLink protokolü ile haberleşen scriptlerdir.\n",
    "Bu scriptlerin,"
   ]
  },
  {
   "cell_type": "markdown",
   "id": "ba285147",
   "metadata": {},
   "source": [
    "inputu image processing sonucu elde edilen ve İHA'dan gelen durum komutlarıdır."
   ]
  },
  {
   "cell_type": "markdown",
   "id": "7ff75d86",
   "metadata": {},
   "source": [
    "outputu ise otonom uçuş kartına gönderilen komutlardır."
   ]
  },
  {
   "cell_type": "code",
   "execution_count": null,
   "id": "94ec471c",
   "metadata": {},
   "outputs": [],
   "source": [
    "# pip kurulumu\n",
    "sudo apt-get update\n",
    "sudo apt-get upgrade\n",
    "sudo apt-get install python-pip python-dev\n",
    "sudo apt-get install python-pip3"
   ]
  },
  {
   "cell_type": "code",
   "execution_count": null,
   "id": "ca52c245",
   "metadata": {},
   "outputs": [],
   "source": [
    "# Önce git kurulumunu yapalım.\n",
    "sudo apt-get update\n",
    "sudo apt-get install git\n",
    "sudo apt-get install gitk git-gui"
   ]
  },
  {
   "cell_type": "code",
   "execution_count": null,
   "id": "5654defe",
   "metadata": {},
   "outputs": [],
   "source": [
    "# Ardupilot kurulumu\n",
    "git clone https://github.com/ArduPilot/ardupilot.git\n",
    "cd ardupilot\n",
    "git submodule update --init --recursive"
   ]
  },
  {
   "cell_type": "code",
   "execution_count": null,
   "id": "8aa44456",
   "metadata": {},
   "outputs": [],
   "source": [
    "# Bazı gerekli paketlerin yüklenmesi (for debian based systems)\n",
    "Tools/environment_install/install-prereqs-ubuntu.sh -y\n",
    ". ~/.profile"
   ]
  },
  {
   "cell_type": "code",
   "execution_count": null,
   "id": "c5f51525",
   "metadata": {},
   "outputs": [],
   "source": [
    "# Gerekli izinlerin verilmesi\n",
    "sudo usermod -a -G dialout $USER"
   ]
  },
  {
   "cell_type": "code",
   "execution_count": null,
   "id": "be53ef8a",
   "metadata": {},
   "outputs": [],
   "source": [
    "#MAVProxy kurulumu\n",
    "sudo apt-get install python3-opencv python3-wxgtk3.0 python3-pip python3-matplotlib python3-pygame python3-lxml python3-yaml\n",
    "pip install MAVProxy"
   ]
  },
  {
   "cell_type": "code",
   "execution_count": null,
   "id": "7d477389",
   "metadata": {},
   "outputs": [],
   "source": [
    "#Gazebo ortamının kurulması\n",
    "sudo sh -c 'echo \"deb http://packages.osrfoundation.org/gazebo/ubuntu-stable `lsb_release -cs` main\" > /etc/apt/sources.list.d/gazebo-stable.list'\n",
    "wget http://packages.osrfoundation.org/gazebo.key -O - | sudo apt-key add -\n",
    "sudo apt update\n",
    "sudo apt install gazebo9 libgazebo9-dev\n",
    "# Bu aşamadan sonra boş bir dünya oluşması lazım\n",
    "gazebo --verbose"
   ]
  },
  {
   "cell_type": "code",
   "execution_count": null,
   "id": "83ed67f9",
   "metadata": {},
   "outputs": [],
   "source": [
    "# Pluginin  kurulması\n",
    "git clone https://github.com/khancyr/ardupilot_gazebo\n",
    "cd ardupilot_gazebo\n",
    "mkdir build\n",
    "cd build\n",
    "cmake ..\n",
    "make -j4\n",
    "sudo make install"
   ]
  },
  {
   "cell_type": "code",
   "execution_count": null,
   "id": "532ff799",
   "metadata": {},
   "outputs": [],
   "source": [
    "# pymavlink kurulumu\n",
    "pip install pymavlink"
   ]
  },
  {
   "cell_type": "code",
   "execution_count": null,
   "id": "8059f4a6",
   "metadata": {},
   "outputs": [],
   "source": [
    "#dronekit kurulumu\n",
    "pip install dronekit\n",
    "pip3 install dronekit"
   ]
  },
  {
   "cell_type": "code",
   "execution_count": null,
   "id": "d3fb1066",
   "metadata": {},
   "outputs": [],
   "source": [
    "# Simülatörü başlatmak\n",
    "gazebo --verbose worlds/iris_arducopter_runway.world"
   ]
  },
  {
   "cell_type": "code",
   "execution_count": null,
   "id": "900b3455",
   "metadata": {},
   "outputs": [],
   "source": [
    "# Başka bir terminal sekmesinde Arducopter-SITL i başlatın\n",
    "cd ~/ardupilot/ArduCopter\n",
    "../Tools/autotest/sim_vehicle.py -f gazebo-iris --console --map"
   ]
  },
  {
   "cell_type": "markdown",
   "id": "87c67b6d",
   "metadata": {},
   "source": [
    "Kurulumlar tamamlandı. Artık coding'e geçebiliriz..."
   ]
  }
 ],
 "metadata": {
  "kernelspec": {
   "display_name": "Python 3 (ipykernel)",
   "language": "python",
   "name": "python3"
  },
  "language_info": {
   "codemirror_mode": {
    "name": "ipython",
    "version": 3
   },
   "file_extension": ".py",
   "mimetype": "text/x-python",
   "name": "python",
   "nbconvert_exporter": "python",
   "pygments_lexer": "ipython3",
   "version": "3.9.12"
  }
 },
 "nbformat": 4,
 "nbformat_minor": 5
}
